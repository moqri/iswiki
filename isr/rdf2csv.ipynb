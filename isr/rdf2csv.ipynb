{
 "cells": [
  {
   "cell_type": "code",
   "execution_count": 93,
   "metadata": {
    "collapsed": true
   },
   "outputs": [],
   "source": [
    "import codecs\n",
    "import pandas as pd\n",
    "import re\n",
    "import collections"
   ]
  },
  {
   "cell_type": "code",
   "execution_count": 89,
   "metadata": {
    "collapsed": true
   },
   "outputs": [],
   "source": [
    "rdf_file='isre-0101-1704-BOM.rdf'\n",
    "with open(rdf_file) as f:\n",
    "    content = f.readlines()\n",
    "# you may also want to remove whitespace characters like `\\n` at the end of each line\n",
    "content = [x.strip() for x in content] "
   ]
  },
  {
   "cell_type": "code",
   "execution_count": 101,
   "metadata": {
    "collapsed": false
   },
   "outputs": [],
   "source": [
    "articles=[]\n",
    "article={}\n",
    "for i in content:\n",
    "    pair=i.split(':')\n",
    "    if pair[0]=='Template-Type':\n",
    "        if len(article)>0:\n",
    "            articles.append(article)\n",
    "        article={}; article['AF']=''; article['C1']=''; article['DE']=''; article['SO']='Information Systems Research';line=0\n",
    "        article['PT']=i\n",
    "    elif pair[0]=='Author-Name':\n",
    "        article['AF']=(article['AF']+pair[1] if article['AF']=='' else article['AF']+'; '+pair[1])\n",
    "    elif pair[0]=='Author-Workplace-Name':\n",
    "        article['C1']=(article['C1']+pair[1] if article['C1']=='' else article['C1']+'; '+pair[1])\n",
    "    elif pair[0]=='Title':article['TI']=pair[1]\n",
    "    elif pair[0]=='Year':article['PY']=pair[1]\n",
    "    elif pair[0]=='Pages':article['PG']=pair[1]\n",
    "    elif pair[0]=='Volume':article['VL']=pair[1]\n",
    "    elif pair[0]=='Issue':article['IS']=pair[1]\n",
    "    elif pair[0]=='File-URL':article['UR']=pair[1]+':'+pair[2]\n",
    "    elif pair[0]=='Abstract':article['AB']=pair[1]\n",
    "    elif pair[0]=='Keywords':article['DE']='; '.join(pair[1].split(','))"
   ]
  },
  {
   "cell_type": "code",
   "execution_count": 102,
   "metadata": {
    "collapsed": false
   },
   "outputs": [
    {
     "data": {
      "text/plain": [
       "(804, 14)"
      ]
     },
     "execution_count": 102,
     "metadata": {},
     "output_type": "execute_result"
    }
   ],
   "source": [
    "df=pd.DataFrame(articles)\n",
    "df.PG.fillna('-',inplace=True)\n",
    "df['BP']=df['PG'].apply(lambda x: x.split('-')[0])\n",
    "df['EP']=df['PG'].apply(lambda x: x.split('-')[1])\n",
    "df=df[~df.AB.isnull()]\n",
    "df=df[df.AF!='']\n",
    "df.shape"
   ]
  },
  {
   "cell_type": "code",
   "execution_count": 103,
   "metadata": {
    "collapsed": false
   },
   "outputs": [
    {
     "data": {
      "text/plain": [
       "[('electronic commerce', 26),\n",
       " ('social media', 20),\n",
       " ('information technology', 18),\n",
       " ('economics of IS', 18),\n",
       " ('business value of IT', 15),\n",
       " ('decision support systems', 14),\n",
       " ('trust', 13),\n",
       " ('productivity', 13),\n",
       " ('user-generated content', 12),\n",
       " ('social networks', 12)]"
      ]
     },
     "execution_count": 103,
     "metadata": {},
     "output_type": "execute_result"
    }
   ],
   "source": [
    "DE=df.DE\n",
    "a=[]\n",
    "for row in DE:\n",
    "    a=a+(row.split(';'))\n",
    "a=[i.strip() for i in a]\n",
    "counter=collections.Counter(a)\n",
    "counter.most_common(10)"
   ]
  },
  {
   "cell_type": "code",
   "execution_count": 104,
   "metadata": {
    "collapsed": true
   },
   "outputs": [],
   "source": [
    "df.to_csv('isr_1990_2016_dec.csv',columns=['AF','TI','DE','AB','SO','VL','PY','IS','BP','EP','C1','UR'],encoding='utf-8')"
   ]
  },
  {
   "cell_type": "code",
   "execution_count": 106,
   "metadata": {
    "collapsed": false
   },
   "outputs": [
    {
     "data": {
      "text/html": [
       "<div>\n",
       "<table border=\"1\" class=\"dataframe\">\n",
       "  <thead>\n",
       "    <tr style=\"text-align: right;\">\n",
       "      <th></th>\n",
       "      <th>AB</th>\n",
       "      <th>AF</th>\n",
       "      <th>C1</th>\n",
       "      <th>DE</th>\n",
       "      <th>IS</th>\n",
       "      <th>PG</th>\n",
       "      <th>PT</th>\n",
       "      <th>PY</th>\n",
       "      <th>SO</th>\n",
       "      <th>TI</th>\n",
       "      <th>UR</th>\n",
       "      <th>VL</th>\n",
       "      <th>BP</th>\n",
       "      <th>EP</th>\n",
       "    </tr>\n",
       "  </thead>\n",
       "  <tbody>\n",
       "    <tr>\n",
       "      <th>0</th>\n",
       "      <td>The concept of decision support systems that ...</td>\n",
       "      <td>Joyce J. Elam;  Melissa Mead</td>\n",
       "      <td>Graduate School of Business, The University o...</td>\n",
       "      <td>decision support systems;  user-computer inte...</td>\n",
       "      <td>1</td>\n",
       "      <td>1-22</td>\n",
       "      <td>Template-Type: ReDIF-Article 1.0</td>\n",
       "      <td>1990</td>\n",
       "      <td>Information Systems Research</td>\n",
       "      <td>Can Software Influence Creativity?</td>\n",
       "      <td>http://dx.doi.org/10.1287/isre.1.1.1</td>\n",
       "      <td>1</td>\n",
       "      <td>1</td>\n",
       "      <td>22</td>\n",
       "    </tr>\n",
       "    <tr>\n",
       "      <th>1</th>\n",
       "      <td>This paper develops a model of the growth of ...</td>\n",
       "      <td>Vijay Gurbaxani;  Haim Mendelson</td>\n",
       "      <td>Graduate School of Management, University of ...</td>\n",
       "      <td>information systems expenditures;  budget;  d...</td>\n",
       "      <td>1</td>\n",
       "      <td>23-46</td>\n",
       "      <td>Template-Type: ReDIF-Article 1.0</td>\n",
       "      <td>1990</td>\n",
       "      <td>Information Systems Research</td>\n",
       "      <td>An Integrative Model of Information Systems S...</td>\n",
       "      <td>http://dx.doi.org/10.1287/isre.1.1.23</td>\n",
       "      <td>1</td>\n",
       "      <td>23</td>\n",
       "      <td>46</td>\n",
       "    </tr>\n",
       "    <tr>\n",
       "      <th>2</th>\n",
       "      <td>The Decision Support Systems (DSS) literature...</td>\n",
       "      <td>Mark S. Silver</td>\n",
       "      <td>Anderson Graduate School of Management, Unive...</td>\n",
       "      <td>decision support systems;  change agency;  sy...</td>\n",
       "      <td>1</td>\n",
       "      <td>47-70</td>\n",
       "      <td>Template-Type: ReDIF-Article 1.0</td>\n",
       "      <td>1990</td>\n",
       "      <td>Information Systems Research</td>\n",
       "      <td>Decision Support Systems</td>\n",
       "      <td>http://dx.doi.org/10.1287/isre.1.1.47</td>\n",
       "      <td>1</td>\n",
       "      <td>47</td>\n",
       "      <td>70</td>\n",
       "    </tr>\n",
       "    <tr>\n",
       "      <th>3</th>\n",
       "      <td>A theoretical framework is developed in which...</td>\n",
       "      <td>Seungjin Whang</td>\n",
       "      <td>Graduate School of Business, Stanford Univers...</td>\n",
       "      <td>control of computer resources;  queueing dela...</td>\n",
       "      <td>1</td>\n",
       "      <td>71-88</td>\n",
       "      <td>Template-Type: ReDIF-Article 1.0</td>\n",
       "      <td>1990</td>\n",
       "      <td>Information Systems Research</td>\n",
       "      <td>Alternative Mechanisms of Allocating Computer...</td>\n",
       "      <td>http://dx.doi.org/10.1287/isre.1.1.71</td>\n",
       "      <td>1</td>\n",
       "      <td>71</td>\n",
       "      <td>88</td>\n",
       "    </tr>\n",
       "    <tr>\n",
       "      <th>4</th>\n",
       "      <td>User involvement is recommended to analysts a...</td>\n",
       "      <td>Michael Newman;  Faith Noble</td>\n",
       "      <td>Department of Accounting and Finance, Univers...</td>\n",
       "      <td>information systems/information systems devel...</td>\n",
       "      <td>1</td>\n",
       "      <td>89-113</td>\n",
       "      <td>Template-Type: ReDIF-Article 1.0</td>\n",
       "      <td>1990</td>\n",
       "      <td>Information Systems Research</td>\n",
       "      <td>User Involvement as an Interaction Process</td>\n",
       "      <td>http://dx.doi.org/10.1287/isre.1.1.89</td>\n",
       "      <td>1</td>\n",
       "      <td>89</td>\n",
       "      <td>113</td>\n",
       "    </tr>\n",
       "  </tbody>\n",
       "</table>\n",
       "</div>"
      ],
      "text/plain": [
       "                                                  AB  \\\n",
       "0   The concept of decision support systems that ...   \n",
       "1   This paper develops a model of the growth of ...   \n",
       "2   The Decision Support Systems (DSS) literature...   \n",
       "3   A theoretical framework is developed in which...   \n",
       "4   User involvement is recommended to analysts a...   \n",
       "\n",
       "                                  AF  \\\n",
       "0       Joyce J. Elam;  Melissa Mead   \n",
       "1   Vijay Gurbaxani;  Haim Mendelson   \n",
       "2                     Mark S. Silver   \n",
       "3                     Seungjin Whang   \n",
       "4       Michael Newman;  Faith Noble   \n",
       "\n",
       "                                                  C1  \\\n",
       "0   Graduate School of Business, The University o...   \n",
       "1   Graduate School of Management, University of ...   \n",
       "2   Anderson Graduate School of Management, Unive...   \n",
       "3   Graduate School of Business, Stanford Univers...   \n",
       "4   Department of Accounting and Finance, Univers...   \n",
       "\n",
       "                                                  DE  IS       PG  \\\n",
       "0   decision support systems;  user-computer inte...   1     1-22   \n",
       "1   information systems expenditures;  budget;  d...   1    23-46   \n",
       "2   decision support systems;  change agency;  sy...   1    47-70   \n",
       "3   control of computer resources;  queueing dela...   1    71-88   \n",
       "4   information systems/information systems devel...   1   89-113   \n",
       "\n",
       "                                 PT     PY                            SO  \\\n",
       "0  Template-Type: ReDIF-Article 1.0   1990  Information Systems Research   \n",
       "1  Template-Type: ReDIF-Article 1.0   1990  Information Systems Research   \n",
       "2  Template-Type: ReDIF-Article 1.0   1990  Information Systems Research   \n",
       "3  Template-Type: ReDIF-Article 1.0   1990  Information Systems Research   \n",
       "4  Template-Type: ReDIF-Article 1.0   1990  Information Systems Research   \n",
       "\n",
       "                                                  TI  \\\n",
       "0                 Can Software Influence Creativity?   \n",
       "1   An Integrative Model of Information Systems S...   \n",
       "2                           Decision Support Systems   \n",
       "3   Alternative Mechanisms of Allocating Computer...   \n",
       "4         User Involvement as an Interaction Process   \n",
       "\n",
       "                                       UR  VL   BP   EP  \n",
       "0    http://dx.doi.org/10.1287/isre.1.1.1   1    1   22  \n",
       "1   http://dx.doi.org/10.1287/isre.1.1.23   1   23   46  \n",
       "2   http://dx.doi.org/10.1287/isre.1.1.47   1   47   70  \n",
       "3   http://dx.doi.org/10.1287/isre.1.1.71   1   71   88  \n",
       "4   http://dx.doi.org/10.1287/isre.1.1.89   1   89  113  "
      ]
     },
     "execution_count": 106,
     "metadata": {},
     "output_type": "execute_result"
    }
   ],
   "source": [
    "df.head()"
   ]
  },
  {
   "cell_type": "code",
   "execution_count": null,
   "metadata": {
    "collapsed": true
   },
   "outputs": [],
   "source": []
  }
 ],
 "metadata": {
  "anaconda-cloud": {},
  "kernelspec": {
   "display_name": "Python [Root]",
   "language": "python",
   "name": "Python [Root]"
  },
  "language_info": {
   "codemirror_mode": {
    "name": "ipython",
    "version": 2
   },
   "file_extension": ".py",
   "mimetype": "text/x-python",
   "name": "python",
   "nbconvert_exporter": "python",
   "pygments_lexer": "ipython2",
   "version": "2.7.12"
  }
 },
 "nbformat": 4,
 "nbformat_minor": 0
}
