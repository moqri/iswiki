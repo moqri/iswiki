{
 "cells": [
  {
   "cell_type": "code",
   "execution_count": null,
   "metadata": {
    "collapsed": true
   },
   "outputs": [],
   "source": [
    "#todo: \n",
    "#author check for Jr, one letter key and auth"
   ]
  },
  {
   "cell_type": "code",
   "execution_count": 1,
   "metadata": {
    "collapsed": false
   },
   "outputs": [],
   "source": [
    "import codecs\n",
    "import pandas as pd\n",
    "import re\n",
    "import collections"
   ]
  },
  {
   "cell_type": "code",
   "execution_count": 2,
   "metadata": {
    "collapsed": false
   },
   "outputs": [],
   "source": [
    "with codecs.open('isr_raw.txt','r','utf-8') as f:\n",
    "    content = f.readlines()\n",
    "f.close()\n",
    "# you may also want to remove whitespace characters like `\\n` at the end of each line\n",
    "content = [x.strip() for x in content] "
   ]
  },
  {
   "cell_type": "code",
   "execution_count": 3,
   "metadata": {
    "collapsed": false
   },
   "outputs": [],
   "source": [
    "articles=[]\n",
    "article={}\n",
    "for i in content:\n",
    "    if i[0:2]=='%0':\n",
    "        if len(article)>0:\n",
    "            articles.append(article)\n",
    "        article={}; article['AF']=''; article['DE']='';line=0\n",
    "        article['PT']=i[3:]\n",
    "    elif i[0:2]=='%A':\n",
    "        article['AF']=(article['AF']+i[3:] if article['AF']=='' else article['AF']+'; '+i[3:])\n",
    "    elif i[0:2]=='%T':article['TI']=i[3:]\n",
    "    elif i[0:2]=='%D':article['PY']=i[3:]\n",
    "    elif i[0:2]=='%J':article['SO']=i[3:]\n",
    "    elif i[0:2]=='%D':article['PY']=i[3:]\n",
    "    elif i[0:2]=='%P':article['PG']=i[3:]\n",
    "    elif i[0:2]=='%V':article['VL']=i[3:]\n",
    "    elif i[0:2]=='%N':article['IS']=i[3:]\n",
    "    elif i[0:2]=='%U':article['UR']=i[3:]\n",
    "    elif i[0:2]=='%X':article['AB']=i[3:]\n",
    "    elif i[0:2]=='%K':article['DE']='; '.join(i[3:].split(','))"
   ]
  },
  {
   "cell_type": "code",
   "execution_count": 4,
   "metadata": {
    "collapsed": false
   },
   "outputs": [
    {
     "data": {
      "text/plain": [
       "(795, 13)"
      ]
     },
     "execution_count": 4,
     "metadata": {},
     "output_type": "execute_result"
    }
   ],
   "source": [
    "df=pd.DataFrame(articles)\n",
    "df.PG.fillna('-',inplace=True)\n",
    "df['BP']=df['PG'].apply(lambda x: x.split('-')[0])\n",
    "df['EP']=df['PG'].apply(lambda x: x.split('-')[1])\n",
    "df=df[~df.AB.isnull()]\n",
    "df=df[df.AF!='']\n",
    "df.shape"
   ]
  },
  {
   "cell_type": "code",
   "execution_count": 8,
   "metadata": {
    "collapsed": false
   },
   "outputs": [
    {
     "data": {
      "text/plain": [
       "795"
      ]
     },
     "execution_count": 8,
     "metadata": {},
     "output_type": "execute_result"
    }
   ],
   "source": [
    "DE=[]\n",
    "for index, row in df.iterrows():\n",
    "    keywords=row['DE'].split(';')\n",
    "    keywords_=''\n",
    "    for keyword in keywords:\n",
    "        keyword=re.sub(r'\\(.+?\\)', '', keyword).strip()\n",
    "        words=keyword.split()\n",
    "        words_=''\n",
    "        for idx, word in enumerate(words):\n",
    "            if idx>0:\n",
    "                if len(word)>1:\n",
    "                    if (word[0].isupper() and word[1].islower()):\n",
    "                        word=word.lower()\n",
    "            words_=words_+' '+word\n",
    "        if keywords_=='':\n",
    "            keywords_=words_        \n",
    "        else:\n",
    "            keywords_=keywords_+'; '+words_   \n",
    "    DE.append(keywords_)\n",
    "len(DE)"
   ]
  },
  {
   "cell_type": "code",
   "execution_count": 7,
   "metadata": {
    "collapsed": false
   },
   "outputs": [
    {
     "data": {
      "text/plain": [
       "[(u'electronic commerce', 25),\n",
       " (u'social media', 19),\n",
       " (u'information technology', 18),\n",
       " (u'economics of IS', 16),\n",
       " (u'decision support systems', 14),\n",
       " (u'business value of IT', 13),\n",
       " (u'trust', 12),\n",
       " (u'user-generated content', 12),\n",
       " (u'information systems', 11),\n",
       " (u'innovation', 11)]"
      ]
     },
     "execution_count": 7,
     "metadata": {},
     "output_type": "execute_result"
    }
   ],
   "source": [
    "a=[]\n",
    "for row in DE:\n",
    "    a=a+(row.split(';'))\n",
    "a=[i.strip() for i in a]\n",
    "counter=collections.Counter(a)\n",
    "counter.most_common(10)"
   ]
  },
  {
   "cell_type": "code",
   "execution_count": 12,
   "metadata": {
    "collapsed": true
   },
   "outputs": [],
   "source": [
    "df['DE']=DE\n",
    "df.to_csv('isr_1990_2016_dec.csv',columns=['AF','TI','DE','AB','SO','VL','PY','IS','BP','EP'],encoding='utf-8')"
   ]
  },
  {
   "cell_type": "code",
   "execution_count": null,
   "metadata": {
    "collapsed": true
   },
   "outputs": [],
   "source": []
  }
 ],
 "metadata": {
  "anaconda-cloud": {},
  "kernelspec": {
   "display_name": "Python [Root]",
   "language": "python",
   "name": "Python [Root]"
  },
  "language_info": {
   "codemirror_mode": {
    "name": "ipython",
    "version": 2
   },
   "file_extension": ".py",
   "mimetype": "text/x-python",
   "name": "python",
   "nbconvert_exporter": "python",
   "pygments_lexer": "ipython2",
   "version": "2.7.12"
  }
 },
 "nbformat": 4,
 "nbformat_minor": 0
}
