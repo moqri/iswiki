{
 "cells": [
  {
   "cell_type": "code",
   "execution_count": 1,
   "metadata": {
    "collapsed": true
   },
   "outputs": [],
   "source": [
    "#todo: \n",
    "#move Jr to AF edit\n",
    "#abstract remove long"
   ]
  },
  {
   "cell_type": "code",
   "execution_count": 1,
   "metadata": {
    "collapsed": true
   },
   "outputs": [],
   "source": [
    "import glob, os\n",
    "from bs4 import BeautifulSoup\n",
    "import re\n",
    "import pandas as pd\n",
    "pd.options.display.max_rows = 2000\n",
    "import collections"
   ]
  },
  {
   "cell_type": "code",
   "execution_count": 3,
   "metadata": {
    "collapsed": false
   },
   "outputs": [],
   "source": [
    "#remove Jr,\n",
    "articles=[]\n",
    "folder=\"htmls_jmis_org\"\n",
    "files=os.listdir(folder)\n",
    "for f in files:\n",
    "    article={}\n",
    "    html=open(folder+'/'+f).read()\n",
    "    s = BeautifulSoup(html, 'html.parser')\n",
    "    authors=s.find_all(href=re.compile(\"contributors\"))\n",
    "    al=[a.text.replace(' Jr,',',') for a in authors]\n",
    "    authors=[(a.split(',')[1]+' '+a.split(',')[0]).strip() for a in al]\n",
    "    authors='; '.join(authors)\n",
    "    keywords=s.find_all(href=re.compile(\"keywords\"))\n",
    "    keywords=[k.text.strip() for k in keywords]\n",
    "    keywords='; '.join(keywords)\n",
    "    title=s.find_all('h3')[0].text\n",
    "    issue=s.find_all(href=re.compile(\"issues\"))[0].text\n",
    "    issuel=issue.split('Volume ')[1].split(' Number ')\n",
    "    VL=issuel[0]\n",
    "    IS=issuel[1][0:1]\n",
    "    PY=issuel[1][2:6]\n",
    "    pages=s.find_all(text=re.compile('pp\\.'))[0].replace(' pp. ','')\n",
    "    cont=s.find_all('div',{'class':'container'})[0]\n",
    "    abstract=cont.findChildren(recursive=False)[4].text.replace('ABSTRACT: ','').replace('\\n','')\n",
    "    #if len(abstract)>0:\n",
    "    #    abstract=abstract[0].replace('ABSTRACT: ','').replace('\\n','')\n",
    "    #else:\n",
    "    #    abstract=''\n",
    "    article['DE']=keywords\n",
    "    article['AF']=authors\n",
    "    article['TI']=title\n",
    "    article['VL']=VL\n",
    "    article['IS']=IS\n",
    "    article['PY']=PY\n",
    "    article['PG']=pages\n",
    "    article['AB']=abstract\n",
    "    article['SO']='Journal of Management Information Systems'\n",
    "    article['UR']='http://www.jmis-web.org/articles/'+f\n",
    "    articles.append(article)"
   ]
  },
  {
   "cell_type": "code",
   "execution_count": 4,
   "metadata": {
    "collapsed": false
   },
   "outputs": [],
   "source": [
    "df=pd.DataFrame(articles)\n",
    "df.PG.fillna('-',inplace=True)\n",
    "df['BP']=df['PG'].apply(lambda x: x.split('-')[0])\n",
    "df['EP']=df['PG'].apply(lambda x: x.split('-')[1])"
   ]
  },
  {
   "cell_type": "code",
   "execution_count": 5,
   "metadata": {
    "collapsed": false
   },
   "outputs": [],
   "source": [
    "df=df[df.TI!='Editorial Introduction']\n",
    "df=df[df.TI!='About This Issue']\n",
    "df=df[df.TI!='From the Editor-in-Chief']\n",
    "df=df[~df.TI.str.contains('Special Issue:')]\n",
    "df=df[~df.TI.str.contains('Special Section:')]"
   ]
  },
  {
   "cell_type": "code",
   "execution_count": 6,
   "metadata": {
    "collapsed": false
   },
   "outputs": [
    {
     "name": "stdout",
     "output_type": "stream",
     "text": [
      "1137\n"
     ]
    },
    {
     "data": {
      "text/plain": [
       "[(u'decision support systems', 57),\n",
       " (u'group support systems', 46),\n",
       " (u'electronic commerce', 36),\n",
       " (u'knowledge management', 33),\n",
       " (u'trust', 27),\n",
       " (u'group decision support systems', 27),\n",
       " (u'expert systems', 25),\n",
       " (u'outsourcing', 20),\n",
       " (u'end-user computing', 19),\n",
       " ('', 17)]"
      ]
     },
     "execution_count": 6,
     "metadata": {},
     "output_type": "execute_result"
    }
   ],
   "source": [
    "#remove ()\n",
    "DE=[]\n",
    "for index, row in df.iterrows():\n",
    "    keywords=row['DE'].split(';')\n",
    "    keywords_=''\n",
    "    for keyword in keywords:\n",
    "        keyword=re.sub(r'\\(.+?\\)', '', keyword).strip()\n",
    "        words=keyword.split()\n",
    "        words_=''\n",
    "        for idx, word in enumerate(words):\n",
    "            if idx>0:\n",
    "                if len(word)>1:\n",
    "                    if (word[0].isupper() and word[1].islower()):\n",
    "                        word=word.lower()\n",
    "            words_=words_+' '+word\n",
    "        if keywords_=='':\n",
    "            keywords_=words_        \n",
    "        else:\n",
    "            keywords_=keywords_+'; '+words_   \n",
    "    DE.append(keywords_)\n",
    "print len(DE)\n",
    "a=[]\n",
    "for row in DE:\n",
    "    a=a+(row.split(';'))\n",
    "a=[i.strip() for i in a]\n",
    "counter=collections.Counter(a)\n",
    "counter.most_common(10)\n"
   ]
  },
  {
   "cell_type": "code",
   "execution_count": 7,
   "metadata": {
    "collapsed": false
   },
   "outputs": [
    {
     "name": "stdout",
     "output_type": "stream",
     "text": [
      "1137\n"
     ]
    },
    {
     "data": {
      "text/plain": [
       "[(u'Jay F. Nunamaker', 46),\n",
       " (u'Eric K. Clemons', 29),\n",
       " (u'Robert J. Kauffman', 21),\n",
       " (u'Andrew B. Whinston', 21),\n",
       " (u'Varun Grover', 17),\n",
       " (u'Alan R. Dennis', 17),\n",
       " (u'Robert O. Briggs', 16),\n",
       " (u'Izak Benbasat', 15),\n",
       " (u'Paul Benjamin Lowry', 11),\n",
       " (u'Abraham Seidmann', 10)]"
      ]
     },
     "execution_count": 7,
     "metadata": {},
     "output_type": "execute_result"
    }
   ],
   "source": [
    "#Add . \n",
    "AF=[]\n",
    "for index, row in df.iterrows():\n",
    "    authors=row['AF'].split(';')\n",
    "    authors_=''\n",
    "    for author in authors:\n",
    "        words=author.split()\n",
    "        words_=''\n",
    "        for idx, word in enumerate(words):\n",
    "            if len(word)==1:\n",
    "                word=word+'.'\n",
    "            words_=words_+' '+word\n",
    "        if authors_=='':\n",
    "            authors_=words_        \n",
    "        else:\n",
    "            authors_=authors_+'; '+words_   \n",
    "    AF.append(authors_)\n",
    "print len(AF)\n",
    "a=[]\n",
    "for row in AF:\n",
    "    a=a+(row.split(';'))\n",
    "a=[i.strip() for i in a]\n",
    "counter=collections.Counter(a)\n",
    "counter.most_common(10)"
   ]
  },
  {
   "cell_type": "code",
   "execution_count": 8,
   "metadata": {
    "collapsed": true
   },
   "outputs": [],
   "source": [
    "df['DE']=DE\n",
    "df['AF']=AF"
   ]
  },
  {
   "cell_type": "code",
   "execution_count": 9,
   "metadata": {
    "collapsed": false
   },
   "outputs": [],
   "source": [
    "rem='''\\[ABSTRACT FROM PUBLISHER\\]Copyright of Journal of Management Information Systems is the property of M.E. Sharpe Inc. and its content may not be copied or emailed to multiple sites or posted to a listserv without the copyright holder\\'s express written permission. However, users may print, download, or email articles for individual use. This abstract may be abridged. No warranty is given about the accuracy of the copy. Users should refer to the original published version of the material for the full abstract. \\(Copyright applies to all Abstracts.\\)'''\n",
    "df['AB']=df.AB.str.replace(rem,'')"
   ]
  },
  {
   "cell_type": "code",
   "execution_count": 10,
   "metadata": {
    "collapsed": false
   },
   "outputs": [],
   "source": [
    "rep='\\xc3\\xa0' #visavis\n",
    "df['TI']=df.TI.str.replace(rep,'A')"
   ]
  },
  {
   "cell_type": "code",
   "execution_count": 11,
   "metadata": {
    "collapsed": true
   },
   "outputs": [],
   "source": [
    "df.to_csv('jmis_1984_2016_dec.csv',columns=['AF','TI','DE','AB','SO','VL','PY','IS','BP','EP'],encoding='utf-8')"
   ]
  },
  {
   "cell_type": "code",
   "execution_count": 162,
   "metadata": {
    "collapsed": false
   },
   "outputs": [
    {
     "name": "stdout",
     "output_type": "stream",
     "text": [
      "10.1080_07421222.1993.11517996.html\n",
      "10.1080_07421222.1993.11517997.html\n",
      "10.1080_07421222.1993.11517998.html\n",
      "10.1080_07421222.1993.11517999.html\n"
     ]
    }
   ],
   "source": [
    "#work in progress\n",
    "articles=[]\n",
    "folder=\"htmls\"\n",
    "files=os.listdir(folder)[304:308]\n",
    "l=[]\n",
    "for f in files:\n",
    "    if 'html' in f:\n",
    "        print f\n",
    "        article={}\n",
    "        html=open(folder+'/'+f).read()\n",
    "        s = BeautifulSoup(html, 'html.parser')\n",
    "        authors=s.find_all('div', {'class':'addAuthorInfo'})\n",
    "        for author in authors:\n",
    "            a=author.findChild().findChild()\n",
    "            f=a.findChild().text\n",
    "            l=a.text.replace(f,'')\n",
    "            aff=author.text.replace(f+l,'').replace(';','')\n",
    "            \n",
    "            \n",
    "            \n"
   ]
  },
  {
   "cell_type": "code",
   "execution_count": 159,
   "metadata": {
    "collapsed": false
   },
   "outputs": [
    {
     "data": {
      "text/plain": [
       "u' is Assistant Professor of Management at the MIT Sloan School of Management. He focuses his research on the economic impacts of infonnation technology. He is currently analyzing how organizations can restructure decision making, compensation systems, and ownership structure to benefit from advances in infonnation technology. He is also interested in understanding the productivity of infonnation technology investments. Professor Brynjolfsson perfonned his doctoral work at MIT in managerial economics and received bachelor\\u2019s and master\\u2019s degrees from Harvard in applied mathematics.'"
      ]
     },
     "execution_count": 159,
     "metadata": {},
     "output_type": "execute_result"
    }
   ],
   "source": [
    "aff"
   ]
  },
  {
   "cell_type": "code",
   "execution_count": 161,
   "metadata": {
    "collapsed": false
   },
   "outputs": [
    {
     "data": {
      "text/plain": [
       "u'Erik'"
      ]
     },
     "execution_count": 161,
     "metadata": {},
     "output_type": "execute_result"
    }
   ],
   "source": [
    "f"
   ]
  },
  {
   "cell_type": "code",
   "execution_count": null,
   "metadata": {
    "collapsed": true
   },
   "outputs": [],
   "source": []
  }
 ],
 "metadata": {
  "anaconda-cloud": {},
  "kernelspec": {
   "display_name": "Python [Root]",
   "language": "python",
   "name": "Python [Root]"
  },
  "language_info": {
   "codemirror_mode": {
    "name": "ipython",
    "version": 2
   },
   "file_extension": ".py",
   "mimetype": "text/x-python",
   "name": "python",
   "nbconvert_exporter": "python",
   "pygments_lexer": "ipython2",
   "version": "2.7.12"
  }
 },
 "nbformat": 4,
 "nbformat_minor": 0
}
