{
 "cells": [
  {
   "cell_type": "code",
   "execution_count": 119,
   "metadata": {
    "collapsed": false
   },
   "outputs": [],
   "source": [
    "import urllib2\n",
    "import requests\n",
    "import codecs\n",
    "import os\n",
    "import random\n",
    "import time\n",
    "\n",
    "from bs4 import BeautifulSoup\n",
    "base=\"http://www.jmis-web.org/articles/\""
   ]
  },
  {
   "cell_type": "code",
   "execution_count": 2,
   "metadata": {
    "collapsed": false
   },
   "outputs": [],
   "source": [
    "#get htmls from jmis.org\n",
    "folder='htmls_jmis_org/'\n",
    "for i in range(1,1321):\n",
    "    page=str(i)\n",
    "    url=base+page\n",
    "    response = urllib2.urlopen(url)\n",
    "    html = response.read()\n",
    "    f = open(folder+page, 'w')\n",
    "    f.write(html) \n",
    "    f.close()"
   ]
  },
  {
   "cell_type": "code",
   "execution_count": 44,
   "metadata": {
    "collapsed": false
   },
   "outputs": [
    {
     "name": "stdout",
     "output_type": "stream",
     "text": [
      "1 2 3 4 5 6 7 8 9 10 11 12 13 14 15 16 17 18 19 20 21 22 23 24 25 26 27 28 29 30 31 32 33\n"
     ]
    }
   ],
   "source": [
    "#get htmls from taylor\n",
    "session = requests.Session()\n",
    "base='http://www.tandfonline.com/toc/mmis20/'\n",
    "folder='vol_iss/'\n",
    "for v in range(1,34):\n",
    "    print v,\n",
    "    for i in range(1,5):\n",
    "        page=str(v)+'/'+str(i)\n",
    "        file_name=folder+page.replace('/','_')+'.html'\n",
    "        if not os.path.isfile(file_name):\n",
    "            url=base+page\n",
    "            response = session.get(url)\n",
    "            html=response.text\n",
    "            f = codecs.open(file_name, 'w','utf-8')\n",
    "            f.write(html) \n",
    "            f.close()        "
   ]
  },
  {
   "cell_type": "code",
   "execution_count": 112,
   "metadata": {
    "collapsed": false
   },
   "outputs": [
    {
     "data": {
      "text/plain": [
       "1346"
      ]
     },
     "execution_count": 112,
     "metadata": {},
     "output_type": "execute_result"
    }
   ],
   "source": [
    "dois=[]\n",
    "folder='vol_iss/'\n",
    "for f in os.listdir(folder):\n",
    "    if 'html' in f:\n",
    "        html=open(folder+f)\n",
    "        soup = BeautifulSoup(html, 'html.parser')\n",
    "        links=soup.find_all('div',{'class':'tocDeliverFormatsLinks'})\n",
    "        dois=dois+[l.findAll('a')[0]['href'].replace('/doi/abs/','') for l in links] \n",
    "len(dois)"
   ]
  },
  {
   "cell_type": "code",
   "execution_count": null,
   "metadata": {
    "collapsed": true
   },
   "outputs": [],
   "source": [
    "base='http://www.tandfonline.com/doi/abs/'\n",
    "folder='htmls/'\n",
    "session = requests.Session()\n",
    "\n",
    "for doi in dois:\n",
    "    title=doi.replace('/','_')+'.html'\n",
    "    if not os.path.isfile(folder+title):\n",
    "        url= base+doi\n",
    "        response = session.get(url)\n",
    "        html=response.text\n",
    "        f = codecs.open(folder+title, \"w\", \"utf-8\")\n",
    "        f.write(html,) \n",
    "        f.close()\n",
    "        r=random.uniform(3, 4)\n",
    "        time.sleep(r) # delays for 3 to 4 seconds"
   ]
  }
 ],
 "metadata": {
  "anaconda-cloud": {},
  "kernelspec": {
   "display_name": "Python [Root]",
   "language": "python",
   "name": "Python [Root]"
  },
  "language_info": {
   "codemirror_mode": {
    "name": "ipython",
    "version": 2
   },
   "file_extension": ".py",
   "mimetype": "text/x-python",
   "name": "python",
   "nbconvert_exporter": "python",
   "pygments_lexer": "ipython2",
   "version": "2.7.12"
  }
 },
 "nbformat": 4,
 "nbformat_minor": 0
}
