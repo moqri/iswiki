{
 "cells": [
  {
   "cell_type": "code",
   "execution_count": null,
   "metadata": {
    "collapsed": true
   },
   "outputs": [],
   "source": [
    "#todo: \n",
    "#keyword-remove parenthesis \n",
    "#author check for Jr\n",
    "#eng page\n",
    "#autho: '4' John J. Sviokla\t\n"
   ]
  },
  {
   "cell_type": "code",
   "execution_count": 7,
   "metadata": {
    "collapsed": false
   },
   "outputs": [],
   "source": [
    "import glob, os\n",
    "from bs4 import BeautifulSoup\n",
    "import re\n",
    "import pandas as pd\n",
    "pd.options.display.max_rows = 2000\n",
    "\n",
    "files=os.listdir(\"htmls\")\n",
    "files=[f for f in files if 'html' in f]\n",
    "articles=[]\n",
    "for file in files:\n",
    "    article={}\n",
    "    article['Keywords']=''\n",
    "    f = open('htmls/'+file)\n",
    "    html=f.read()\n",
    "    soup = BeautifulSoup(html, 'html.parser')\n",
    "    article['TI']=soup.find_all('h3',class_=\"product-name\")\n",
    "    article['TI']=article['TI'][0].text.replace('\\n','').replace('\\r','')\n",
    "    article['TI']=re.sub(r'\\*.+?\\*', '', article['TI'])\n",
    "    article['TI']=article['TI'].strip()\n",
    "    article['AB']=soup.find_all('div',class_=\"product-specs\")\n",
    "    article['AB']=article['AB'][0].text.replace('\\n','').replace('\\r','').strip()\n",
    "    article_info=soup.find_all('table',class_=\"data-table\")[0].findAll('tr')\n",
    "    article['SO']='MIS Quarterly'\n",
    "    for i in article_info:\n",
    "        row=i.text.split('\\n')\n",
    "        article[row[1]]=row[2]\n",
    "    article['Author']=article['Author'].replace(', and ',', ').replace(' and ',', ').replace(',',';').strip()\n",
    "    article['Keywords']=article['Keywords'].replace(',',';')\n",
    "    articles.append(article)\n",
    "    f.close()"
   ]
  },
  {
   "cell_type": "code",
   "execution_count": 8,
   "metadata": {
    "collapsed": false,
    "scrolled": true
   },
   "outputs": [],
   "source": [
    "df=pd.DataFrame(articles)\n",
    "df.columns=['AB','AF','IS','DE','PG','SO','TI','VL','PY']\n",
    "df.PG.fillna('-',inplace=True)\n",
    "df['BP']=df['PG'].apply(lambda x: x.split('-')[0])\n",
    "df['EP']=df['PG'].apply(lambda x: x.split('-')[1])"
   ]
  },
  {
   "cell_type": "code",
   "execution_count": 9,
   "metadata": {
    "collapsed": false
   },
   "outputs": [],
   "source": [
    "df.to_csv('../misq_1977_2017_march.csv',columns=['AF','TI','DE','AB','SO','VL','PY','IS','BP','EP'],encoding='utf-8')"
   ]
  },
  {
   "cell_type": "code",
   "execution_count": null,
   "metadata": {
    "collapsed": true
   },
   "outputs": [],
   "source": []
  }
 ],
 "metadata": {
  "anaconda-cloud": {},
  "kernelspec": {
   "display_name": "Python [Root]",
   "language": "python",
   "name": "Python [Root]"
  },
  "language_info": {
   "codemirror_mode": {
    "name": "ipython",
    "version": 2
   },
   "file_extension": ".py",
   "mimetype": "text/x-python",
   "name": "python",
   "nbconvert_exporter": "python",
   "pygments_lexer": "ipython2",
   "version": "2.7.12"
  }
 },
 "nbformat": 4,
 "nbformat_minor": 0
}
