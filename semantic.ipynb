{
 "cells": [
  {
   "cell_type": "code",
   "execution_count": 5,
   "metadata": {
    "collapsed": false
   },
   "outputs": [],
   "source": [
    "import pandas as pd\n",
    "import os\n",
    "import re\n",
    "\n",
    "articles_csv='data/misq_1977_2017_march.csv'\n",
    "articles_file='articles.txt'\n",
    "authors_file='authors.txt'\n",
    "keywords_file='keywords.txt'\n",
    "try:\n",
    "    os.remove(authors_file)\n",
    "except OSError:\n",
    "    pass\n",
    "try:\n",
    "    os.remove(articles_file)\n",
    "except OSError:\n",
    "    pass\n",
    "try:\n",
    "    os.remove(keywords_file)\n",
    "except OSError:\n",
    "    pass\n",
    "\n",
    "df=pd.read_csv(articles_csv,dtype='str')\n",
    "df.fillna('',inplace=True)\n",
    "articles_file=open(articles_file,'a')\n",
    "authors_file=open(authors_file,'a')\n",
    "keywords_file=open(keywords_file,'a')\n",
    "all_authors=[]\n",
    "all_keywords=[]\n",
    "\n",
    "def addAuthor(author_name):\n",
    "    if author_name in all_authors:\n",
    "\t\treturn\n",
    "    all_authors.append(author_name)    \t\n",
    "    text='''    \n",
    "---start---\n",
    "\\'\\'\\'this_title\\'\\'\\'\n",
    "{{author papers}}\n",
    "[[Category:author]]\n",
    "---end---\n",
    "'''\n",
    "    text= text.replace('this_title',author_name)\n",
    "    authors_file.write(text)\n",
    "    \n",
    "\n",
    "def addKeyword(keyword):\n",
    "    if keyword in all_keywords:\n",
    "\t\treturn\n",
    "    all_keywords.append(keyword)    \t\n",
    "    text='''\n",
    "---start---\n",
    "\\'\\'\\'this_title\\'\\'\\'\n",
    "{{keyword papers}}\n",
    "[[Category:keyword]]\n",
    "---end---\n",
    "'''\n",
    "    text= text.replace('this_title',keyword)\n",
    "    keywords_file.write(text)\n",
    "    \n",
    "\n",
    "def addArticle(paper):\n",
    "    authors_list=paper['authors'].split(';') \n",
    "    i=0\n",
    "    authors_text=''\n",
    "    for author in authors_list:\n",
    "        author_name_split=reversed(author.strip().split(','))\n",
    "        author_name=' '.join(name.strip() for name in author_name_split)\n",
    "        addAuthor(author_name)\n",
    "        authors_text=authors_text+ author_name +','\n",
    "    keywords_list=paper['keywords'].split(';') \n",
    "    i=0\n",
    "    keywords_text=''\n",
    "    for keyword in keywords_list:\n",
    "        keyword=keyword.strip()\n",
    "        if keyword != '':\n",
    "            addKeyword(keyword)\n",
    "            keywords_text=keywords_text+ keyword+','\n",
    "        \n",
    "    text=''' \n",
    "---start---\n",
    "\\'\\'\\'this_title\\'\\'\\'\n",
    "{{header}}\n",
    "{{article\n",
    "|author= this_author\n",
    "|source= this_source\n",
    "|year= this_year\n",
    "|volume=this_volume\n",
    "|issue=this_issue\n",
    "|page=this_bpage-this_epage\n",
    "|abstract = this_abstract\n",
    "|keyword = this_keyword\n",
    "}}\n",
    "{{topics}}\n",
    "{{theories}}\n",
    "{{methods}}\n",
    "{{footer}}\n",
    "[[Category:article]]\n",
    "---end---\n",
    "'''\n",
    "    text= text.replace('this_title',paper['title'])\n",
    "    text= text.replace('this_author',authors_text)\n",
    "    text= text.replace('this_source',paper['source'])\n",
    "    text= text.replace('this_year',paper['year'])\n",
    "    text= text.replace('this_volume',paper['volume'])\n",
    "    text= text.replace('this_issue',paper['issue'])\n",
    "    text= text.replace('this_bpage',paper['bpage'])\n",
    "    text= text.replace('this_epage',paper['epage'])\n",
    "    text= text.replace('this_abstract',paper['abstract'])\n",
    "    text= text.replace('this_keyword',keywords_text)\n",
    "    articles_file.write(text)\n",
    "\n",
    "\n"
   ]
  },
  {
   "cell_type": "code",
   "execution_count": 6,
   "metadata": {
    "collapsed": false
   },
   "outputs": [
    {
     "name": "stdout",
     "output_type": "stream",
     "text": [
      "1985 Opinion Survey of MIS Managers:  Key Issues\n"
     ]
    }
   ],
   "source": [
    "for i,row in df[0:1].iterrows():\n",
    "    if i < 0 : break\n",
    "    paper={\n",
    "    'title':row['TI'],\n",
    "    'authors':row['AF'],\n",
    "    'source':row['SO'],\n",
    "    'keywords':row['DE'],\n",
    "    'abstract':row['AB'],\n",
    "    'year':row['PY'],\n",
    "    'volume':row['VL'],\n",
    "    'issue':row['IS'],\n",
    "    'bpage':row['BP'],\n",
    "    'epage':row['EP'],\n",
    "        }\n",
    "    print paper['title']\n",
    "\n",
    "    addArticle(paper)"
   ]
  },
  {
   "cell_type": "code",
   "execution_count": 7,
   "metadata": {
    "collapsed": true
   },
   "outputs": [],
   "source": [
    "articles_file.close()\n",
    "authors_file.close()\n",
    "keywords_file.close()"
   ]
  },
  {
   "cell_type": "code",
   "execution_count": null,
   "metadata": {
    "collapsed": true
   },
   "outputs": [],
   "source": []
  }
 ],
 "metadata": {
  "anaconda-cloud": {},
  "kernelspec": {
   "display_name": "Python [Root]",
   "language": "python",
   "name": "Python [Root]"
  },
  "language_info": {
   "codemirror_mode": {
    "name": "ipython",
    "version": 2
   },
   "file_extension": ".py",
   "mimetype": "text/x-python",
   "name": "python",
   "nbconvert_exporter": "python",
   "pygments_lexer": "ipython2",
   "version": "2.7.12"
  }
 },
 "nbformat": 4,
 "nbformat_minor": 0
}
