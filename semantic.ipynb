{
 "cells": [
  {
   "cell_type": "code",
   "execution_count": 1,
   "metadata": {
    "collapsed": false
   },
   "outputs": [],
   "source": [
    "import pandas as pd\n",
    "pd.options.display.max_columns = 999"
   ]
  },
  {
   "cell_type": "code",
   "execution_count": 7,
   "metadata": {
    "collapsed": false
   },
   "outputs": [],
   "source": [
    "df=pd.read_csv('articles_2010.csv')\n",
    "articles_file=open('articles.txt','a')"
   ]
  },
  {
   "cell_type": "code",
   "execution_count": 8,
   "metadata": {
    "collapsed": true
   },
   "outputs": [],
   "source": [
    "def addArticle(paper):\n",
    "    authors_list=paper['authors'].split(';') \n",
    "    i=0\n",
    "    authors_text=''\n",
    "    for author in authors_list:\n",
    "        i+=1\n",
    "        author_name_split=reversed(author.strip().split(','))\n",
    "        author_name=' '.join(name.strip() for name in author_name_split)\n",
    "        authors_text=authors_text+ ('author'+str(i)+' = '+author_name) +' | '\n",
    "        \n",
    "    text=''' \n",
    "---start---\n",
    "\n",
    "{{\n",
    "template:article\n",
    "|title= this_title\n",
    "|author\n",
    "|source= this_source\n",
    "}}\n",
    "\n",
    "---end---\n",
    "\n",
    "'''\n",
    "    text= text.replace('this_title',paper['title'])\n",
    "    text= text.replace('author',authors_text)\n",
    "    text= text.replace('this_source',paper['source'])\n",
    "\n",
    "    articles_file.write(text)\n",
    "    \n",
    "    \n",
    "\n",
    "    "
   ]
  },
  {
   "cell_type": "code",
   "execution_count": 9,
   "metadata": {
    "collapsed": false
   },
   "outputs": [
    {
     "name": "stdout",
     "output_type": "stream",
     "text": [
      "0\n",
      "1\n"
     ]
    }
   ],
   "source": [
    "for i,row in df.iterrows():\n",
    "    if i > 1 : break\n",
    "    print i\n",
    "    paper={\n",
    "    'title':row['TI'],\n",
    "    'authors':row['AF'],\n",
    "    'source':row['SO'],\n",
    "    'keywords':row['DE'],\n",
    "    'abstract':row['AB'],\n",
    "    'year':row['PY'],\n",
    "    'volum':row['VL'],\n",
    "    'issue':row['IS'],\n",
    "    'bpage':row['BP'],\n",
    "    'epage':row['EP']\n",
    "        }\n",
    "    addArticle(paper)\n"
   ]
  },
  {
   "cell_type": "code",
   "execution_count": 10,
   "metadata": {
    "collapsed": false
   },
   "outputs": [],
   "source": [
    "articles_file.close()"
   ]
  },
  {
   "cell_type": "code",
   "execution_count": null,
   "metadata": {
    "collapsed": true
   },
   "outputs": [],
   "source": []
  }
 ],
 "metadata": {
  "kernelspec": {
   "display_name": "Python [Root]",
   "language": "python",
   "name": "Python [Root]"
  },
  "language_info": {
   "codemirror_mode": {
    "name": "ipython",
    "version": 2
   },
   "file_extension": ".py",
   "mimetype": "text/x-python",
   "name": "python",
   "nbconvert_exporter": "python",
   "pygments_lexer": "ipython2",
   "version": "2.7.12"
  }
 },
 "nbformat": 4,
 "nbformat_minor": 0
}
