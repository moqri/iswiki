{
 "cells": [
  {
   "cell_type": "code",
   "execution_count": 1,
   "metadata": {
    "collapsed": false
   },
   "outputs": [],
   "source": [
    "import pandas as pd\n",
    "import os\n",
    "pd.options.display.max_columns = 999"
   ]
  },
  {
   "cell_type": "code",
   "execution_count": 2,
   "metadata": {
    "collapsed": false
   },
   "outputs": [],
   "source": [
    "articles_csv='articles_2010.csv'\n",
    "articles_file='articles.txt'\n",
    "authors_file='authors.txt'\n",
    "keywords_file='keywords.txt'\n",
    "try:\n",
    "    os.remove(authors_file)\n",
    "except OSError:\n",
    "    pass\n",
    "try:\n",
    "    os.remove(articles_file)\n",
    "except OSError:\n",
    "    pass\n",
    "try:\n",
    "    os.remove(keywords_file)\n",
    "except OSError:\n",
    "    pass"
   ]
  },
  {
   "cell_type": "code",
   "execution_count": 3,
   "metadata": {
    "collapsed": false
   },
   "outputs": [],
   "source": [
    "df=pd.read_csv(articles_csv)\n",
    "df.DE.fillna('',inplace=True)\n",
    "articles_file=open(articles_file,'a')\n",
    "authors_file=open(authors_file,'a')\n",
    "keywords_file=open(keywords_file,'a')"
   ]
  },
  {
   "cell_type": "code",
   "execution_count": 4,
   "metadata": {
    "collapsed": true
   },
   "outputs": [],
   "source": [
    "def addAuthor(author_name):\n",
    "        \n",
    "    text='''\n",
    "    \n",
    "---start---\n",
    "\\'\\'\\'this_title\\'\\'\\'\n",
    "\n",
    "{{author papers}}\n",
    "\n",
    "[[Category:author]]\n",
    "\n",
    "---end---\n",
    "\n",
    "'''\n",
    "    text= text.replace('this_title',author_name)\n",
    "    authors_file.write(text)\n",
    "    "
   ]
  },
  {
   "cell_type": "code",
   "execution_count": 5,
   "metadata": {
    "collapsed": true
   },
   "outputs": [],
   "source": [
    "def addKeyword(keyword):\n",
    "\n",
    "    text='''\n",
    "    \n",
    "---start---\n",
    "\\'\\'\\'this_title\\'\\'\\'\n",
    "\n",
    "{{keyword papers}}\n",
    "\n",
    "[[Category:keyword]]\n",
    "\n",
    "---end---\n",
    "\n",
    "'''\n",
    "    text= text.replace('this_title',keyword)\n",
    "    keywords_file.write(text)\n",
    "    "
   ]
  },
  {
   "cell_type": "code",
   "execution_count": 6,
   "metadata": {
    "collapsed": false
   },
   "outputs": [],
   "source": [
    "def addArticle(paper):\n",
    "    authors_list=paper['authors'].split(';') \n",
    "    i=0\n",
    "    authors_text=''\n",
    "    for author in authors_list:\n",
    "        author_name_split=reversed(author.strip().split(','))\n",
    "        author_name=' '.join(name.strip() for name in author_name_split)\n",
    "        addAuthor(author_name)\n",
    "        authors_text=authors_text+ author_name +','\n",
    "    keywords_list=paper['keywords'].split(';') \n",
    "    i=0\n",
    "    keywords_text=''\n",
    "    for keyword in keywords_list:\n",
    "        keyword=keyword.strip()\n",
    "        if keyword != '':\n",
    "            addKeyword(keyword)\n",
    "            keywords_text=keywords_text+ keyword+','\n",
    "        \n",
    "    text=''' \n",
    "---start---\n",
    "\\'\\'\\'this_title\\'\\'\\'\n",
    "{{header}}\n",
    "{{article\n",
    "|author= this_author\n",
    "|source= this_source\n",
    "|year= this_year\n",
    "|abstract = this_abstract\n",
    "|keyword = this_keyword\n",
    "}}\n",
    "{{topics}}\n",
    "{{theories}}\n",
    "{{methods}}\n",
    "{{footer}}\n",
    "[[Category:article]]\n",
    "---end---\n",
    "\n",
    "'''\n",
    "    text= text.replace('this_title',paper['title'])\n",
    "    text= text.replace('this_author',authors_text)\n",
    "    text= text.replace('this_source',paper['source'])\n",
    "    text= text.replace('this_year',str(paper['year']))\n",
    "    text= text.replace('this_abstract',paper['abstract'])\n",
    "    text= text.replace('this_keyword',keywords_text)\n",
    "\n",
    "    articles_file.write(text)"
   ]
  },
  {
   "cell_type": "code",
   "execution_count": 7,
   "metadata": {
    "collapsed": false,
    "scrolled": true
   },
   "outputs": [
    {
     "name": "stdout",
     "output_type": "stream",
     "text": [
      "Using Accountability to Reduce Access Policy Violations in Information Systems\n",
      "BEYOND DETERRENCE: AN EXPANDED VIEW OF EMPLOYEE COMPUTER ABUSE\n"
     ]
    }
   ],
   "source": [
    "for i,row in df.iterrows():\n",
    "    if i > 1 : break\n",
    "    paper={\n",
    "    'title':row['TI'],\n",
    "    'authors':row['AF'],\n",
    "    'source':row['SO'],\n",
    "    'keywords':row['DE'],\n",
    "    'abstract':row['AB'],\n",
    "    'year':row['PY'],\n",
    "    'volum':row['VL'],\n",
    "    'issue':row['IS'],\n",
    "    'bpage':row['BP'],\n",
    "    'epage':row['EP']\n",
    "        }\n",
    "    print paper['title']\n",
    "    addArticle(paper)\n"
   ]
  },
  {
   "cell_type": "code",
   "execution_count": 27,
   "metadata": {
    "collapsed": false
   },
   "outputs": [],
   "source": [
    "articles_file.close()\n",
    "authors_file.close()\n",
    "keywords_file.close()"
   ]
  },
  {
   "cell_type": "code",
   "execution_count": null,
   "metadata": {
    "collapsed": true
   },
   "outputs": [],
   "source": []
  }
 ],
 "metadata": {
  "anaconda-cloud": {},
  "kernelspec": {
   "display_name": "Python [Root]",
   "language": "python",
   "name": "Python [Root]"
  },
  "language_info": {
   "codemirror_mode": {
    "name": "ipython",
    "version": 2
   },
   "file_extension": ".py",
   "mimetype": "text/x-python",
   "name": "python",
   "nbconvert_exporter": "python",
   "pygments_lexer": "ipython2",
   "version": "2.7.12"
  }
 },
 "nbformat": 4,
 "nbformat_minor": 0
}
