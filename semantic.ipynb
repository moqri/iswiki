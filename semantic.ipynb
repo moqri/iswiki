{
 "cells": [
  {
   "cell_type": "code",
   "execution_count": 51,
   "metadata": {
    "collapsed": false
   },
   "outputs": [],
   "source": [
    "import pandas as pd\n",
    "import os\n",
    "pd.options.display.max_columns = 999"
   ]
  },
  {
   "cell_type": "code",
   "execution_count": 53,
   "metadata": {
    "collapsed": false
   },
   "outputs": [],
   "source": [
    "articles_csv='articles_2010.csv'\n",
    "articles_file='articles.txt'\n",
    "authors_file='authors.txt'\n",
    "try:\n",
    "    os.remove(authors_file)\n",
    "except OSError:\n",
    "    pass\n",
    "try:\n",
    "    os.remove(articles_file)\n",
    "except OSError:\n",
    "    pass"
   ]
  },
  {
   "cell_type": "code",
   "execution_count": 54,
   "metadata": {
    "collapsed": false
   },
   "outputs": [],
   "source": [
    "df=pd.read_csv(articles_csv)\n",
    "\n",
    "articles_file=open(articles_file,'a')\n",
    "authors_file=open(authors_file,'a')"
   ]
  },
  {
   "cell_type": "code",
   "execution_count": 55,
   "metadata": {
    "collapsed": true
   },
   "outputs": [],
   "source": [
    "def addAuthor(author_name):\n",
    "        \n",
    "    text='''\n",
    "    \n",
    "---start---\n",
    "\\'\\'\\' this_title \\'\\'\\'\n",
    "\n",
    "{{author papers}}\n",
    "\n",
    "[[Category:author]]\n",
    "\n",
    "---end---\n",
    "\n",
    "'''\n",
    "    text= text.replace('this_title',author_name)\n",
    "    authors_file.write(text)\n",
    "    "
   ]
  },
  {
   "cell_type": "code",
   "execution_count": 56,
   "metadata": {
    "collapsed": false
   },
   "outputs": [],
   "source": [
    "def addArticle(paper):\n",
    "    authors_list=paper['authors'].split(';') \n",
    "    i=0\n",
    "    authors_text=''\n",
    "    for author in authors_list:\n",
    "        i+=1\n",
    "        author_name_split=reversed(author.strip().split(','))\n",
    "        author_name=' '.join(name.strip() for name in author_name_split)\n",
    "        addAuthor(author_name)\n",
    "        authors_text=authors_text+ ('author'+str(i)+' = '+author_name) +' | '\n",
    "        \n",
    "    text=''' \n",
    "---start---\n",
    "\\'\\'\\' this_title \\'\\'\\'\n",
    "{{\n",
    "template:article\n",
    "|author\n",
    "|source= this_source\n",
    "|year= this_year\n",
    "|abstract = this_abstract\n",
    "\n",
    "}}\n",
    "\n",
    "[[Category:article]]\n",
    "\n",
    "---end---\n",
    "\n",
    "'''\n",
    "    text= text.replace('this_title',paper['title'])\n",
    "    text= text.replace('author',authors_text)\n",
    "    text= text.replace('this_source',paper['source'])\n",
    "    text= text.replace('this_year',str(paper['year']))\n",
    "    text= text.replace('this_abstract',paper['abstract'])\n",
    "    articles_file.write(text)\n",
    "    \n",
    "    \n",
    "\n",
    "    "
   ]
  },
  {
   "cell_type": "code",
   "execution_count": 57,
   "metadata": {
    "collapsed": false,
    "scrolled": true
   },
   "outputs": [],
   "source": [
    "for i,row in df.iterrows():\n",
    "    if i > 1000 : break\n",
    "    paper={\n",
    "    'title':row['TI'],\n",
    "    'authors':row['AF'],\n",
    "    'source':row['SO'],\n",
    "    'keywords':row['DE'],\n",
    "    'abstract':row['AB'],\n",
    "    'year':row['PY'],\n",
    "    'volum':row['VL'],\n",
    "    'issue':row['IS'],\n",
    "    'bpage':row['BP'],\n",
    "    'epage':row['EP']\n",
    "        }\n",
    "    addArticle(paper)\n"
   ]
  },
  {
   "cell_type": "code",
   "execution_count": 58,
   "metadata": {
    "collapsed": false
   },
   "outputs": [],
   "source": [
    "articles_file.close()\n",
    "authors_file.close()"
   ]
  },
  {
   "cell_type": "code",
   "execution_count": 59,
   "metadata": {
    "collapsed": false
   },
   "outputs": [
    {
     "data": {
      "text/plain": [
       "(864, 64)"
      ]
     },
     "execution_count": 59,
     "metadata": {},
     "output_type": "execute_result"
    }
   ],
   "source": [
    "df.shape"
   ]
  },
  {
   "cell_type": "code",
   "execution_count": null,
   "metadata": {
    "collapsed": true
   },
   "outputs": [],
   "source": []
  }
 ],
 "metadata": {
  "anaconda-cloud": {},
  "kernelspec": {
   "display_name": "Python [Root]",
   "language": "python",
   "name": "Python [Root]"
  },
  "language_info": {
   "codemirror_mode": {
    "name": "ipython",
    "version": 2
   },
   "file_extension": ".py",
   "mimetype": "text/x-python",
   "name": "python",
   "nbconvert_exporter": "python",
   "pygments_lexer": "ipython2",
   "version": "2.7.12"
  }
 },
 "nbformat": 4,
 "nbformat_minor": 0
}
